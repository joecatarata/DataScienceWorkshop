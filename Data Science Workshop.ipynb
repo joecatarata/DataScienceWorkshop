{
 "cells": [
  {
   "cell_type": "code",
   "execution_count": 19,
   "metadata": {},
   "outputs": [
    {
     "name": "stdout",
     "output_type": "stream",
     "text": [
      "[0, 3, 'Braund, Mr. Owen Harris', 'male', 22, 1, 0]\n"
     ]
    }
   ],
   "source": [
    "import csv\n",
    "# Open the dataset\n",
    "with open('titanic.csv', 'rt') as fin:\n",
    "    cin = csv.reader(fin)\n",
    "    data = [row for row in cin]\n",
    "\n",
    "\n",
    "# Remove the header\n",
    "data.remove(data[0])\n",
    "\n",
    "# Transform the dataset\n",
    "n_data = []\n",
    "for sample in data:\n",
    "    survived = int(sample[0])\n",
    "    pass_class = int(sample[1])\n",
    "    name = sample[2]\n",
    "    gender = sample[3]\n",
    "    age  = float(sample[4]) if '.' in sample[4] else int(sample[4])\n",
    "    sib_sp = int(sample[5])\n",
    "    par_ch = int(sample[6])\n",
    "    \n",
    "    n_data.append([survived,pass_class,name,gender,age,sib_sp,par_ch])\n",
    "print(n_data[0])\n"
   ]
  },
  {
   "cell_type": "code",
   "execution_count": 30,
   "metadata": {},
   "outputs": [
    {
     "name": "stdout",
     "output_type": "stream",
     "text": [
      "There are 714 total passengers\n",
      "290 lived and 424 dies.\n",
      "360 men died and 93 men lived.\n",
      "64 female died and 197 female lived.\n",
      "84.91% of deaths were male, 15.09% were female\n"
     ]
    }
   ],
   "source": [
    "# Look at gender\n",
    "survivors = [sample for sample in n_data if sample[0]==1]\n",
    "deaths = [sample for sample in n_data if sample[0]==0]\n",
    "dead_male = 0\n",
    "live_male = 0\n",
    "dead_female = 0\n",
    "live_female = 0\n",
    "\n",
    "for sample in n_data:\n",
    "    if sample[0] == 0:\n",
    "        if sample[3] == 'male':\n",
    "            dead_male += 1\n",
    "        else: \n",
    "            dead_female += 1\n",
    "    else:\n",
    "        if sample[3] == 'male':\n",
    "            live_male += 1\n",
    "        else:\n",
    "            live_female += 1\n",
    "\n",
    "passenger_count = len(n_data)\n",
    "total_deaths = dead_male + dead_female\n",
    "total_living = passenger_count - total_deaths\n",
    "print(\"There are {} total passengers\".format(passenger_count))\n",
    "print(\"{} lived and {} dies.\".format(total_living, total_deaths))\n",
    "print(\"{} men died and {} men lived.\".format(dead_male, live_male))\n",
    "print(\"{} female died and {} female lived.\".format(dead_female, live_female))\n",
    "print(\"{:.2f}% of deaths were male, {:.2f}% were female\".format(dead_male / total_deaths * 100, dead_female / total_deaths * 100))"
   ]
  },
  {
   "cell_type": "code",
   "execution_count": 65,
   "metadata": {},
   "outputs": [
    {
     "name": "stdout",
     "output_type": "stream",
     "text": [
      "There are 62 children, 102 adolescents and 220 adults aboard the titanic.\n",
      "5.660% of deaths were children, 14.387% of deaths were adolescents and 33.726% of deaths were adults.\n",
      "55.738% of deaths were workers in the age group 20-29\n"
     ]
    }
   ],
   "source": [
    "# Look at age\n",
    "age_info = {'Children': 0, 'Adolescents': 0, 'Adults': 0}\n",
    "dead_ageGroup = {'Children': 0, 'Adolescents': 0, 'Adults': 0}\n",
    "socialClass = {'Workers': 0}\n",
    "for sample in n_data:\n",
    "    if(sample[4] <= 9):\n",
    "        age_info['Children'] += 1\n",
    "        if(sample[0] == 0):\n",
    "            dead_ageGroup['Children'] += 1\n",
    "    elif(sample[4] >= 9 and sample[4] <= 19):\n",
    "        age_info['Adolescents'] += 1\n",
    "        if(sample[0] == 0):\n",
    "            dead_ageGroup['Adolescents'] += 1\n",
    "    elif(sample[4] >= 20 and sample[4] <= 29):\n",
    "        age_info['Adults'] += 1\n",
    "        if(sample[0] == 0):\n",
    "            dead_ageGroup['Adults'] += 1\n",
    "        if(sample[1] == 1):\n",
    "            socialClass['Workers'] += 1\n",
    "            \n",
    "\n",
    "\n",
    "print(\"There are {} children, {} adolescents and {} adults aboard the titanic.\".format(age_info['Children'], \n",
    "                                                                                       age_info['Adolescents'], \n",
    "                                                                                       age_info['Adults']))\n",
    "print(\"{:.3f}% of deaths were children, {:.3f}% of deaths were adolescents and {:.3f}% of deaths were adults.\".format(dead_ageGroup['Children']/total_deaths * 100,\n",
    "                                                                                                     dead_ageGroup['Adolescents']/total_deaths*100,\n",
    "                                                                                                     dead_ageGroup['Adults']/total_deaths*100))\n",
    "print(\"{:.3f}% of deaths were workers in the age group 20-29\".format(socialClass['Workers']/dead_ageGroup['Adolescents']*100))\n",
    "\n",
    "\n"
   ]
  },
  {
   "cell_type": "code",
   "execution_count": 102,
   "metadata": {},
   "outputs": [
    {
     "name": "stdout",
     "output_type": "stream",
     "text": [
      "There are 54 male aristocrats and 113 female aristocrats in the titanic.\n",
      "29 out of 54 male aristocrats died which makes it 53.70% of the male aristocrats.\n",
      "28 out of 113 female aristocrats died which makes it 24.78% of the female aristocrats.\n",
      "3\n"
     ]
    }
   ],
   "source": [
    "# Look at name\n",
    "firstClassNames = [n[2] for n in n_data if n[1] == 1 and 'Master' in n[2]]\n",
    "male_names = [n[2] for n in n_data if n[3] == 'male']\n",
    "female_names = [n[2] for n in n_data if n[3] == 'female']\n",
    "male_royalty = [n for n in male_names if 'Mr' not in n]\n",
    "female_royalty = [n for n in female_names if '(' in n]\n",
    "dead_maleRoyalty = [n[2] for n in n_data if n[0] == 0 and 'Mr' not in n[2] and n[3] == 'male']\n",
    "dead_femaleRoyalty = [n[2] for n in n_data if n[0] == 0 and '(' in n[2]]\n",
    "print(\"There are {} male aristocrats and {} female aristocrats in the titanic.\".format(len(male_royalty), len(female_royalty)))\n",
    "print(\"{} out of {} male aristocrats died which makes it {:.2f}% of the male aristocrats.\".format(len(dead_maleRoyalty), len(male_royalty), len(dead_maleRoyalty)/len(male_royalty)*100))\n",
    "print(\"{} out of {} female aristocrats died which makes it {:.2f}% of the female aristocrats.\".format(len(dead_femaleRoyalty), len(female_royalty), len(dead_femaleRoyalty)/len(female_royalty)*100))\n",
    "print(len(firstClassNames))"
   ]
  },
  {
   "cell_type": "code",
   "execution_count": null,
   "metadata": {},
   "outputs": [],
   "source": []
  }
 ],
 "metadata": {
  "kernelspec": {
   "display_name": "Python 3",
   "language": "python",
   "name": "python3"
  },
  "language_info": {
   "codemirror_mode": {
    "name": "ipython",
    "version": 3
   },
   "file_extension": ".py",
   "mimetype": "text/x-python",
   "name": "python",
   "nbconvert_exporter": "python",
   "pygments_lexer": "ipython3",
   "version": "3.6.1"
  }
 },
 "nbformat": 4,
 "nbformat_minor": 2
}
